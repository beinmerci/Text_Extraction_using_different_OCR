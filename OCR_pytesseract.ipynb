{
 "cells": [
  {
   "cell_type": "code",
   "execution_count": 1,
   "metadata": {},
   "outputs": [],
   "source": [
    "# intstall Tesseract OCR : https://github.com/UB-Mannheim/tesseract/wiki\n",
    "#pip install tesseract\n",
    "# pip install pytesseract"
   ]
  },
  {
   "cell_type": "code",
   "execution_count": 1,
   "metadata": {},
   "outputs": [],
   "source": [
    "import pytesseract\n",
    "from PIL import Image\n",
    "pytesseract.pytesseract.tesseract_cmd = 'C:\\\\Tesseract-OCR\\\\tesseract.exe'  ## Path where Tesseract OCR is installed"
   ]
  },
  {
   "cell_type": "code",
   "execution_count": 2,
   "metadata": {},
   "outputs": [],
   "source": [
    "## Select Input image file for text extraction\n",
    "from tkinter.filedialog import askopenfilename"
   ]
  },
  {
   "cell_type": "code",
   "execution_count": 3,
   "metadata": {},
   "outputs": [
    {
     "name": "stdout",
     "output_type": "stream",
     "text": [
      "Example Company\n",
      "Balance Sheet\n",
      "December 31, 2018\n",
      "\n",
      " \n",
      "\n",
      "ASSETS LIABILITIES\n",
      "Current assets Current liabilities\n",
      "Cash s Notes payable $ 5,000\n",
      "Petty cash Accounts payable 35,900\n",
      "Temporary investments Wages payable 8,500\n",
      "‘Accounts receivable - net Interest payable 2,900\n",
      "Inventory Taxes payable 6,100\n",
      "‘Supplies Warranty liability 1,100\n",
      "Prepaid insurance Uneamed revenues 1,500\n",
      "Total current assets Total current liabilities 61,000\n",
      "\n",
      "Investments\n",
      "\n",
      "Property, plant & equipment\n",
      "Land\n",
      "Land improvements\n",
      "Buildings\n",
      "Equipment\n",
      "Less: accum depreciation\n",
      "Prop, plant & equip - net\n",
      "\n",
      "Intangible assets\n",
      "Goodwill\n",
      "Trade names\n",
      "Total intangible assets\n",
      "Other assets.\n",
      "\n",
      "Total assets\n",
      "\n",
      "‘The notes to the sample balance sheet have been omitted.\n",
      "\n",
      "5,500\n",
      "\n",
      "6,500\n",
      "180,000,\n",
      "201,000\n",
      "\n",
      " \n",
      "\n",
      " \n",
      "\n",
      " \n",
      "\n",
      " \n",
      "\n",
      "Long-term liabilities.\n",
      "Notes payable\n",
      "Bonds payable\n",
      "\n",
      "Total long-term liabilities:\n",
      "\n",
      "Total liabilities\n",
      "\n",
      "‘STOCKHOLDERS’ EQUITY\n",
      "\n",
      "Common stock\n",
      "Retained earings\n",
      "‘Accum other comprehensive income\n",
      "Less: Treasury stock\n",
      "\n",
      "Total stockholders’ equity\n",
      "\n",
      "‘Total liabilities & stockholders’ equity\n",
      "\n",
      " \n",
      "\n",
      "110,000\n",
      "\n",
      "220,000\n",
      "9,000\n",
      "\n",
      "(60,000)\n",
      "289,000\n",
      "\n",
      "$770,000\n"
     ]
    }
   ],
   "source": [
    "img = Image.open(askopenfilename())\n",
    "text = pytesseract.image_to_string(img)\n",
    "print(text)"
   ]
  },
  {
   "cell_type": "code",
   "execution_count": null,
   "metadata": {},
   "outputs": [],
   "source": []
  }
 ],
 "metadata": {
  "kernelspec": {
   "display_name": "Python 3",
   "language": "python",
   "name": "python3"
  },
  "language_info": {
   "codemirror_mode": {
    "name": "ipython",
    "version": 3
   },
   "file_extension": ".py",
   "mimetype": "text/x-python",
   "name": "python",
   "nbconvert_exporter": "python",
   "pygments_lexer": "ipython3",
   "version": "3.7.3"
  }
 },
 "nbformat": 4,
 "nbformat_minor": 2
}
